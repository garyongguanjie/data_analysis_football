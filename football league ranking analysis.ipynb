{
 "cells": [
  {
   "cell_type": "code",
   "execution_count": 5,
   "metadata": {},
   "outputs": [],
   "source": [
    "import pandas as pd"
   ]
  },
  {
   "cell_type": "code",
   "execution_count": 6,
   "metadata": {},
   "outputs": [],
   "source": [
    "df = pd.read_csv(\"https://projects.fivethirtyeight.com/soccer-api/club/spi_global_rankings.csv\")"
   ]
  },
  {
   "cell_type": "code",
   "execution_count": 7,
   "metadata": {},
   "outputs": [],
   "source": [
    "df = df[df[\"league\"].isin([\"Barclays Premier League\",\"Spanish Primera Division\",\"German Bundesliga\",\"Italy Serie A\",\"French Ligue 1\"])]\n",
    "name_map = {\"Barclays Premier League\":\"English Premier League\",\"Spanish Primera Division\":\"Spanish La Liga\"}\n",
    "df[\"league\"] = df[\"league\"].apply(lambda x:name_map[x] if x in name_map else x)"
   ]
  },
  {
   "cell_type": "code",
   "execution_count": 8,
   "metadata": {},
   "outputs": [
    {
     "name": "stdout",
     "output_type": "stream",
     "text": [
      "| league                 |     rank |     off |      def |     spi |\n",
      "|:-----------------------|---------:|--------:|---------:|--------:|\n",
      "| English Premier League |  42.7    | 2.0175  | 0.73     | 73.2745 |\n",
      "| Spanish La Liga        |  55.45   | 1.869   | 0.771    | 70.0275 |\n",
      "| German Bundesliga      |  58.6667 | 2.02778 | 0.898333 | 69.4594 |\n",
      "| Italy Serie A          |  85.8    | 1.839   | 0.9875   | 64.3585 |\n",
      "| French Ligue 1         | 106.1    | 1.6455  | 1.0045   | 60.2    |\n"
     ]
    }
   ],
   "source": [
    "print(df[[\"league\",\"rank\",\"off\",\"def\",\"spi\"]].groupby(by=[\"league\"]).mean().sort_values(by=[\"rank\"],ascending=True).to_markdown())"
   ]
  },
  {
   "cell_type": "code",
   "execution_count": 9,
   "metadata": {},
   "outputs": [
    {
     "name": "stdout",
     "output_type": "stream",
     "text": [
      "| league                 |   rank |   off |   def |    spi |\n",
      "|:-----------------------|-------:|------:|------:|-------:|\n",
      "| English Premier League |   32   | 1.97  | 0.755 | 73.935 |\n",
      "| Spanish La Liga        |   50.5 | 1.755 | 0.835 | 69.075 |\n",
      "| German Bundesliga      |   53.5 | 1.95  | 0.97  | 68.515 |\n",
      "| Italy Serie A          |   89.5 | 1.695 | 1.01  | 61.3   |\n",
      "| French Ligue 1         |  116.5 | 1.57  | 1.01  | 57.685 |\n"
     ]
    }
   ],
   "source": [
    "print(df[[\"league\",\"rank\",\"off\",\"def\",\"spi\"]].groupby(by=[\"league\"]).median().sort_values(by=[\"rank\"],ascending=True).to_markdown())"
   ]
  },
  {
   "cell_type": "code",
   "execution_count": 10,
   "metadata": {},
   "outputs": [
    {
     "name": "stdout",
     "output_type": "stream",
     "text": [
      "| league                 |   rank |   off |   def |   spi |\n",
      "|:-----------------------|-------:|------:|------:|------:|\n",
      "| English Premier League |      1 |  1.57 |  0.23 | 59    |\n",
      "| German Bundesliga      |      2 |  1.55 |  0.5  | 54.1  |\n",
      "| Spanish La Liga        |      6 |  1.51 |  0.41 | 54.1  |\n",
      "| French Ligue 1         |     10 |  1.34 |  0.61 | 48.86 |\n",
      "| Italy Serie A          |     13 |  1.37 |  0.63 | 46.91 |\n"
     ]
    }
   ],
   "source": [
    "print(df[[\"league\",\"rank\",\"off\",\"def\",\"spi\"]].groupby(by=[\"league\"]).min().sort_values(by=[\"rank\"],ascending=True).to_markdown())"
   ]
  },
  {
   "cell_type": "code",
   "execution_count": 11,
   "metadata": {},
   "outputs": [
    {
     "name": "stdout",
     "output_type": "stream",
     "text": [
      "| league                 |   rank |   off |   def |   spi |\n",
      "|:-----------------------|-------:|------:|------:|------:|\n",
      "| English Premier League |    104 |  2.93 |  1.1  | 93.48 |\n",
      "| German Bundesliga      |    142 |  3.32 |  1.19 | 92.17 |\n",
      "| Spanish La Liga        |    143 |  2.74 |  1.18 | 86.6  |\n",
      "| French Ligue 1         |    186 |  2.6  |  1.3  | 84.55 |\n",
      "| Italy Serie A          |    201 |  2.4  |  1.32 | 81.99 |\n"
     ]
    }
   ],
   "source": [
    "print(df[[\"league\",\"rank\",\"off\",\"def\",\"spi\"]].groupby(by=[\"league\"]).max().sort_values(by=[\"rank\"],ascending=True).to_markdown())"
   ]
  },
  {
   "cell_type": "code",
   "execution_count": 12,
   "metadata": {},
   "outputs": [],
   "source": [
    "import seaborn as sns\n",
    "import matplotlib.pyplot as plt\n",
    "sns.set_theme(style=\"whitegrid\")"
   ]
  },
  {
   "cell_type": "code",
   "execution_count": 13,
   "metadata": {},
   "outputs": [],
   "source": [
    "fig = plt.figure(figsize=(9, 6))\n",
    "ax = sns.violinplot(x=\"spi\",y=\"league\",data=df)\n",
    "ax = sns.stripplot(x=\"spi\", y=\"league\", data=df,\n",
    "                   size=3, color=\"0.9\")\n",
    "plt.savefig(\"spi.png\",bbox_inches='tight')\n",
    "plt.close()"
   ]
  },
  {
   "cell_type": "code",
   "execution_count": 14,
   "metadata": {},
   "outputs": [],
   "source": [
    "fig = plt.figure(figsize=(9, 6))\n",
    "ax = sns.violinplot(x=\"rank\",y=\"league\",data=df)\n",
    "ax = sns.stripplot(x=\"rank\", y=\"league\", data=df,\n",
    "                   size=3, color=\"0.9\")\n",
    "plt.savefig(\"rank.png\",bbox_inches='tight')\n",
    "plt.close()"
   ]
  },
  {
   "cell_type": "code",
   "execution_count": null,
   "metadata": {},
   "outputs": [],
   "source": []
  }
 ],
 "metadata": {
  "interpreter": {
   "hash": "28f6594230f7c2b0aaccf17aa962f065840c261d9bda8cf8c711ea8408dae3f9"
  },
  "kernelspec": {
   "display_name": "Python 3",
   "language": "python",
   "name": "python3"
  },
  "language_info": {
   "codemirror_mode": {
    "name": "ipython",
    "version": 3
   },
   "file_extension": ".py",
   "mimetype": "text/x-python",
   "name": "python",
   "nbconvert_exporter": "python",
   "pygments_lexer": "ipython3",
   "version": "3.8.5"
  }
 },
 "nbformat": 4,
 "nbformat_minor": 4
}
